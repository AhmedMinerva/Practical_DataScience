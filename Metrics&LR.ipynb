{
  "nbformat": 4,
  "nbformat_minor": 0,
  "metadata": {
    "kernelspec": {
      "display_name": "Python 3",
      "language": "python",
      "name": "python3"
    },
    "language_info": {
      "codemirror_mode": {
        "name": "ipython",
        "version": 3
      },
      "file_extension": ".py",
      "mimetype": "text/x-python",
      "name": "python",
      "nbconvert_exporter": "python",
      "pygments_lexer": "ipython3",
      "version": "3.6.5"
    },
    "colab": {
      "name": "Metrics&LR.ipynb",
      "provenance": [],
      "include_colab_link": true
    }
  },
  "cells": [
    {
      "cell_type": "markdown",
      "metadata": {
        "id": "view-in-github",
        "colab_type": "text"
      },
      "source": [
        "<a href=\"https://colab.research.google.com/github/AhmedMinerva/Practical_DataScience/blob/master/Metrics%26LR.ipynb\" target=\"_parent\"><img src=\"https://colab.research.google.com/assets/colab-badge.svg\" alt=\"Open In Colab\"/></a>"
      ]
    },
    {
      "cell_type": "markdown",
      "metadata": {
        "id": "ihgIAofy28r6"
      },
      "source": [
        "# Data science pipeline: pandas, seaborn, scikit-learn, Metrics\n",
        "\n"
      ]
    },
    {
      "cell_type": "markdown",
      "metadata": {
        "id": "s9jqOFoG28r9"
      },
      "source": [
        "## Agenda\n",
        "\n",
        "- How do I use the **pandas library** to read data into Python?\n",
        "- How do I use the **seaborn library** to visualize data?\n",
        "- What is **linear regression**, and how does it work?\n",
        "- How do I **train and interpret** a linear regression model in scikit-learn?\n",
        "- What are some **evaluation metrics** for regression problems?\n",
        "- How do I choose **which features to include** in my model?"
      ]
    },
    {
      "cell_type": "markdown",
      "metadata": {
        "id": "W4QFq74128r_"
      },
      "source": [
        "## Types of supervised learning\n",
        "\n",
        "- **Classification:** Predict a categorical response\n",
        "- **Regression:** Predict a continuous response"
      ]
    },
    {
      "cell_type": "markdown",
      "metadata": {
        "id": "eFSTjQgj28sA"
      },
      "source": [
        "## Reading data using pandas\n"
      ]
    },
    {
      "cell_type": "code",
      "metadata": {
        "id": "5X8_aros28sC"
      },
      "source": [
        "#import pandas\n",
        "import pandas as pd"
      ],
      "execution_count": 1,
      "outputs": []
    },
    {
      "cell_type": "code",
      "metadata": {
        "id": "YQgs6UVS28sK",
        "outputId": "28bda155-2e15-48dd-8594-2006a64b3e46",
        "colab": {
          "base_uri": "https://localhost:8080/",
          "height": 195
        }
      },
      "source": [
        "# read CSV file from the 'data' subdirectory using a relative path\n",
        "data = pd.read_csv('data/Advertising.csv', index_col=0)\n",
        "\n",
        "# display the first 5 rows\n",
        "data.head()"
      ],
      "execution_count": 2,
      "outputs": [
        {
          "output_type": "execute_result",
          "data": {
            "text/html": [
              "<div>\n",
              "<style scoped>\n",
              "    .dataframe tbody tr th:only-of-type {\n",
              "        vertical-align: middle;\n",
              "    }\n",
              "\n",
              "    .dataframe tbody tr th {\n",
              "        vertical-align: top;\n",
              "    }\n",
              "\n",
              "    .dataframe thead th {\n",
              "        text-align: right;\n",
              "    }\n",
              "</style>\n",
              "<table border=\"1\" class=\"dataframe\">\n",
              "  <thead>\n",
              "    <tr style=\"text-align: right;\">\n",
              "      <th></th>\n",
              "      <th>TV</th>\n",
              "      <th>Radio</th>\n",
              "      <th>Newspaper</th>\n",
              "      <th>Sales</th>\n",
              "    </tr>\n",
              "  </thead>\n",
              "  <tbody>\n",
              "    <tr>\n",
              "      <th>1</th>\n",
              "      <td>230.1</td>\n",
              "      <td>37.8</td>\n",
              "      <td>69.2</td>\n",
              "      <td>22.1</td>\n",
              "    </tr>\n",
              "    <tr>\n",
              "      <th>2</th>\n",
              "      <td>44.5</td>\n",
              "      <td>39.3</td>\n",
              "      <td>45.1</td>\n",
              "      <td>10.4</td>\n",
              "    </tr>\n",
              "    <tr>\n",
              "      <th>3</th>\n",
              "      <td>17.2</td>\n",
              "      <td>45.9</td>\n",
              "      <td>69.3</td>\n",
              "      <td>9.3</td>\n",
              "    </tr>\n",
              "    <tr>\n",
              "      <th>4</th>\n",
              "      <td>151.5</td>\n",
              "      <td>41.3</td>\n",
              "      <td>58.5</td>\n",
              "      <td>18.5</td>\n",
              "    </tr>\n",
              "    <tr>\n",
              "      <th>5</th>\n",
              "      <td>180.8</td>\n",
              "      <td>10.8</td>\n",
              "      <td>58.4</td>\n",
              "      <td>12.9</td>\n",
              "    </tr>\n",
              "  </tbody>\n",
              "</table>\n",
              "</div>"
            ],
            "text/plain": [
              "      TV  Radio  Newspaper  Sales\n",
              "1  230.1   37.8       69.2   22.1\n",
              "2   44.5   39.3       45.1   10.4\n",
              "3   17.2   45.9       69.3    9.3\n",
              "4  151.5   41.3       58.5   18.5\n",
              "5  180.8   10.8       58.4   12.9"
            ]
          },
          "metadata": {
            "tags": []
          },
          "execution_count": 2
        }
      ]
    },
    {
      "cell_type": "markdown",
      "metadata": {
        "id": "ge8RYCwz28sU"
      },
      "source": [
        "Primary object types:\n",
        "\n",
        "- **DataFrame:** rows and columns (like a spreadsheet)\n",
        "- **Series:** a single column"
      ]
    },
    {
      "cell_type": "code",
      "metadata": {
        "id": "PUb8OgZp28sX",
        "outputId": "0bebda19-33a7-4d62-ffca-769aba9ce1fe",
        "colab": {
          "base_uri": "https://localhost:8080/",
          "height": 195
        }
      },
      "source": [
        "# display the last 5 rows\n",
        "data.tail()"
      ],
      "execution_count": 3,
      "outputs": [
        {
          "output_type": "execute_result",
          "data": {
            "text/html": [
              "<div>\n",
              "<style scoped>\n",
              "    .dataframe tbody tr th:only-of-type {\n",
              "        vertical-align: middle;\n",
              "    }\n",
              "\n",
              "    .dataframe tbody tr th {\n",
              "        vertical-align: top;\n",
              "    }\n",
              "\n",
              "    .dataframe thead th {\n",
              "        text-align: right;\n",
              "    }\n",
              "</style>\n",
              "<table border=\"1\" class=\"dataframe\">\n",
              "  <thead>\n",
              "    <tr style=\"text-align: right;\">\n",
              "      <th></th>\n",
              "      <th>TV</th>\n",
              "      <th>Radio</th>\n",
              "      <th>Newspaper</th>\n",
              "      <th>Sales</th>\n",
              "    </tr>\n",
              "  </thead>\n",
              "  <tbody>\n",
              "    <tr>\n",
              "      <th>196</th>\n",
              "      <td>38.2</td>\n",
              "      <td>3.7</td>\n",
              "      <td>13.8</td>\n",
              "      <td>7.6</td>\n",
              "    </tr>\n",
              "    <tr>\n",
              "      <th>197</th>\n",
              "      <td>94.2</td>\n",
              "      <td>4.9</td>\n",
              "      <td>8.1</td>\n",
              "      <td>9.7</td>\n",
              "    </tr>\n",
              "    <tr>\n",
              "      <th>198</th>\n",
              "      <td>177.0</td>\n",
              "      <td>9.3</td>\n",
              "      <td>6.4</td>\n",
              "      <td>12.8</td>\n",
              "    </tr>\n",
              "    <tr>\n",
              "      <th>199</th>\n",
              "      <td>283.6</td>\n",
              "      <td>42.0</td>\n",
              "      <td>66.2</td>\n",
              "      <td>25.5</td>\n",
              "    </tr>\n",
              "    <tr>\n",
              "      <th>200</th>\n",
              "      <td>232.1</td>\n",
              "      <td>8.6</td>\n",
              "      <td>8.7</td>\n",
              "      <td>13.4</td>\n",
              "    </tr>\n",
              "  </tbody>\n",
              "</table>\n",
              "</div>"
            ],
            "text/plain": [
              "        TV  Radio  Newspaper  Sales\n",
              "196   38.2    3.7       13.8    7.6\n",
              "197   94.2    4.9        8.1    9.7\n",
              "198  177.0    9.3        6.4   12.8\n",
              "199  283.6   42.0       66.2   25.5\n",
              "200  232.1    8.6        8.7   13.4"
            ]
          },
          "metadata": {
            "tags": []
          },
          "execution_count": 3
        }
      ]
    },
    {
      "cell_type": "code",
      "metadata": {
        "id": "2krzATFt28sg",
        "outputId": "594e87b1-b829-4632-dd22-d00ef456e8b1",
        "colab": {
          "base_uri": "https://localhost:8080/",
          "height": 34
        }
      },
      "source": [
        "# check the shape of the DataFrame (rows, columns)\n",
        "data.shape"
      ],
      "execution_count": 4,
      "outputs": [
        {
          "output_type": "execute_result",
          "data": {
            "text/plain": [
              "(200, 4)"
            ]
          },
          "metadata": {
            "tags": []
          },
          "execution_count": 4
        }
      ]
    },
    {
      "cell_type": "markdown",
      "metadata": {
        "id": "wx3poaRK28sn"
      },
      "source": [
        "What are the features?\n",
        "- **TV:** advertising dollars spent on TV for a single product in a given market (in thousands of dollars)\n",
        "- **Radio:** advertising dollars spent on Radio\n",
        "- **Newspaper:** advertising dollars spent on Newspaper\n",
        "\n",
        "What is the response?\n",
        "- **Sales:** sales of a single product in a given market (in thousands of items)\n",
        "\n",
        "What else do we know?\n",
        "- Because the response variable is continuous, this is a **regression** problem.\n",
        "- There are 200 **observations** (represented by the rows), and each observation is a single market."
      ]
    },
    {
      "cell_type": "markdown",
      "metadata": {
        "id": "90nrd9bb28so"
      },
      "source": [
        "## Visualizing data using seaborn\n"
      ]
    },
    {
      "cell_type": "code",
      "metadata": {
        "id": "UvCb_g2A28sp"
      },
      "source": [
        "# import seaborn\n",
        "import seaborn as sns\n",
        "\n",
        "# allow plots to appear within the notebook\n",
        "%matplotlib inline"
      ],
      "execution_count": 5,
      "outputs": []
    },
    {
      "cell_type": "code",
      "metadata": {
        "id": "RTIe8w-_28sw",
        "outputId": "677f6636-dd3d-4d6e-d88c-50df40ded36d",
        "colab": {
          "base_uri": "https://localhost:8080/",
          "height": 532
        }
      },
      "source": [
        "# visualize the relationship between the features and the response using scatterplots\n",
        "sns.pairplot(data, x_vars=['Sales','TV','Radio','Newspaper'], y_vars=['Sales'], height=7, aspect=0.7, kind='reg')"
      ],
      "execution_count": 17,
      "outputs": [
        {
          "output_type": "execute_result",
          "data": {
            "text/plain": [
              "<seaborn.axisgrid.PairGrid at 0x7faa5f9d0f60>"
            ]
          },
          "metadata": {
            "tags": []
          },
          "execution_count": 17
        },
        {
          "output_type": "display_data",
          "data": {
            "image/png": "[encoded data removed]",
            "text/plain": [
              "<Figure size 1411.2x504 with 5 Axes>"
            ]
          },
          "metadata": {
            "tags": [],
            "needs_background": "light"
          }
        }
      ]
    },
    {
      "cell_type": "markdown",
      "metadata": {
        "id": "z6uCKsUT28s5"
      },
      "source": [
        "## Linear regression\n",
        "\n",
        "**Pros:** fast, no tuning required, highly interpretable, well-understood\n",
        "\n",
        "**Cons:** unlikely to produce the best predictive accuracy (presumes a linear relationship between the features and response)"
      ]
    },
    {
      "cell_type": "markdown",
      "metadata": {
        "id": "Y1kY1hvL28s7"
      },
      "source": [
        "### Form of linear regression\n",
        "\n",
        "$y = \\beta_0 + \\beta_1x_1 + \\beta_2x_2 + ... + \\beta_nx_n$\n",
        "\n",
        "- $y$ is the response\n",
        "- $\\beta_0$ is the intercept\n",
        "- $\\beta_1$ is the coefficient for $x_1$ (the first feature)\n",
        "- $\\beta_n$ is the coefficient for $x_n$ (the nth feature)\n",
        "\n",
        "In this case:\n",
        "\n",
        "$y = \\beta_0 + \\beta_1 \\times TV + \\beta_2 \\times Radio + \\beta_3 \\times Newspaper$\n",
        "\n",
        "The $\\beta$ values are called the **model coefficients**. These values are \"learned\" during the model fitting step using the \"least squares\" criterion. Then, the fitted model can be used to make predictions!"
      ]
    },
    {
      "cell_type": "markdown",
      "metadata": {
        "id": "Shx0lW1n28s9"
      },
      "source": [
        "## Preparing X and y using pandas\n",
        "\n",
        "- scikit-learn expects X (feature matrix) and y (response vector) to be NumPy arrays.\n",
        "- However, pandas is built on top of NumPy.\n",
        "- Thus, X can be a pandas DataFrame and y can be a pandas Series!"
      ]
    },
    {
      "cell_type": "code",
      "metadata": {
        "id": "x_Y5Sf2328s-",
        "outputId": "eb8c21af-226a-443b-e915-e363dec53984",
        "colab": {
          "base_uri": "https://localhost:8080/",
          "height": 195
        }
      },
      "source": [
        "# create a Python list of feature names\n",
        "feature_cols = ['TV', 'Radio', 'Newspaper']\n",
        "\n",
        "# use the list to select a subset of the original DataFrame\n",
        "X = data[feature_cols]\n",
        "\n",
        "# equivalent command to do this in one line\n",
        "X = data[['TV', 'Radio', 'Newspaper']]\n",
        "\n",
        "# print the first 5 rows\n",
        "X.head()"
      ],
      "execution_count": 18,
      "outputs": [
        {
          "output_type": "execute_result",
          "data": {
            "text/html": [
              "<div>\n",
              "<style scoped>\n",
              "    .dataframe tbody tr th:only-of-type {\n",
              "        vertical-align: middle;\n",
              "    }\n",
              "\n",
              "    .dataframe tbody tr th {\n",
              "        vertical-align: top;\n",
              "    }\n",
              "\n",
              "    .dataframe thead th {\n",
              "        text-align: right;\n",
              "    }\n",
              "</style>\n",
              "<table border=\"1\" class=\"dataframe\">\n",
              "  <thead>\n",
              "    <tr style=\"text-align: right;\">\n",
              "      <th></th>\n",
              "      <th>TV</th>\n",
              "      <th>Radio</th>\n",
              "      <th>Newspaper</th>\n",
              "    </tr>\n",
              "  </thead>\n",
              "  <tbody>\n",
              "    <tr>\n",
              "      <th>1</th>\n",
              "      <td>230.1</td>\n",
              "      <td>37.8</td>\n",
              "      <td>69.2</td>\n",
              "    </tr>\n",
              "    <tr>\n",
              "      <th>2</th>\n",
              "      <td>44.5</td>\n",
              "      <td>39.3</td>\n",
              "      <td>45.1</td>\n",
              "    </tr>\n",
              "    <tr>\n",
              "      <th>3</th>\n",
              "      <td>17.2</td>\n",
              "      <td>45.9</td>\n",
              "      <td>69.3</td>\n",
              "    </tr>\n",
              "    <tr>\n",
              "      <th>4</th>\n",
              "      <td>151.5</td>\n",
              "      <td>41.3</td>\n",
              "      <td>58.5</td>\n",
              "    </tr>\n",
              "    <tr>\n",
              "      <th>5</th>\n",
              "      <td>180.8</td>\n",
              "      <td>10.8</td>\n",
              "      <td>58.4</td>\n",
              "    </tr>\n",
              "  </tbody>\n",
              "</table>\n",
              "</div>"
            ],
            "text/plain": [
              "      TV  Radio  Newspaper\n",
              "1  230.1   37.8       69.2\n",
              "2   44.5   39.3       45.1\n",
              "3   17.2   45.9       69.3\n",
              "4  151.5   41.3       58.5\n",
              "5  180.8   10.8       58.4"
            ]
          },
          "metadata": {
            "tags": []
          },
          "execution_count": 18
        }
      ]
    },
    {
      "cell_type": "code",
      "metadata": {
        "id": "iArQtMpM28tE",
        "outputId": "86a1ea61-9c62-4744-d99b-a5a5017682bb",
        "colab": {
          "base_uri": "https://localhost:8080/",
          "height": 50
        }
      },
      "source": [
        "# check the type and shape of X\n",
        "print(type(X))\n",
        "print(X.shape)"
      ],
      "execution_count": 19,
      "outputs": [
        {
          "output_type": "stream",
          "text": [
            "<class 'pandas.core.frame.DataFrame'>\n",
            "(200, 3)\n"
          ],
          "name": "stdout"
        }
      ]
    },
    {
      "cell_type": "code",
      "metadata": {
        "id": "LpPwZyUn28tK",
        "outputId": "3a8cf60b-1305-40d9-f867-9ee7953d1e23",
        "colab": {
          "base_uri": "https://localhost:8080/",
          "height": 118
        }
      },
      "source": [
        "# select a Series from the DataFrame\n",
        "y = data['Sales']\n",
        "\n",
        "# equivalent command that works if there are no spaces in the column name\n",
        "y = data.Sales\n",
        "\n",
        "# print the first 5 values\n",
        "y.head()"
      ],
      "execution_count": 20,
      "outputs": [
        {
          "output_type": "execute_result",
          "data": {
            "text/plain": [
              "1    22.1\n",
              "2    10.4\n",
              "3     9.3\n",
              "4    18.5\n",
              "5    12.9\n",
              "Name: Sales, dtype: float64"
            ]
          },
          "metadata": {
            "tags": []
          },
          "execution_count": 20
        }
      ]
    },
    {
      "cell_type": "code",
      "metadata": {
        "id": "f72FoOzR28tP",
        "outputId": "095be1a7-4655-4595-db02-8dc78dc76754",
        "colab": {
          "base_uri": "https://localhost:8080/",
          "height": 50
        }
      },
      "source": [
        "# check the type and shape of y\n",
        "print(type(y))\n",
        "print(y.shape)"
      ],
      "execution_count": 21,
      "outputs": [
        {
          "output_type": "stream",
          "text": [
            "<class 'pandas.core.series.Series'>\n",
            "(200,)\n"
          ],
          "name": "stdout"
        }
      ]
    },
    {
      "cell_type": "markdown",
      "metadata": {
        "id": "bN9T9pJl28tf"
      },
      "source": [
        "## Splitting X and y into training and testing sets"
      ]
    },
    {
      "cell_type": "code",
      "metadata": {
        "id": "Sn7AInXK28th"
      },
      "source": [
        "from sklearn.model_selection import train_test_split\n",
        "X_train, X_test, y_train, y_test = train_test_split(X, y, random_state=1)"
      ],
      "execution_count": 22,
      "outputs": []
    },
    {
      "cell_type": "code",
      "metadata": {
        "id": "tLraVcNp28tn",
        "outputId": "44fde664-b7d3-42b3-850b-793b643243e6",
        "colab": {
          "base_uri": "https://localhost:8080/",
          "height": 84
        }
      },
      "source": [
        "# default split is 75% for training and 25% for testing\n",
        "print(X_train.shape)\n",
        "print(y_train.shape)\n",
        "print(X_test.shape)\n",
        "print(y_test.shape)"
      ],
      "execution_count": 23,
      "outputs": [
        {
          "output_type": "stream",
          "text": [
            "(150, 3)\n",
            "(150,)\n",
            "(50, 3)\n",
            "(50,)\n"
          ],
          "name": "stdout"
        }
      ]
    },
    {
      "cell_type": "markdown",
      "metadata": {
        "id": "PaPrvFcP28tv"
      },
      "source": [
        "## Linear regression in scikit-learn"
      ]
    },
    {
      "cell_type": "code",
      "metadata": {
        "id": "SMQ96-9M28tw",
        "outputId": "f87aa6b6-fad9-4d26-a8ea-449e72df1cb8",
        "colab": {
          "base_uri": "https://localhost:8080/",
          "height": 34
        }
      },
      "source": [
        "# import model\n",
        "from sklearn.linear_model import LinearRegression\n",
        "\n",
        "# instantiate\n",
        "linreg = LinearRegression()\n",
        "\n",
        "# fit the model to the training data (learn the coefficients)\n",
        "linreg.fit(X_train, y_train)"
      ],
      "execution_count": 24,
      "outputs": [
        {
          "output_type": "execute_result",
          "data": {
            "text/plain": [
              "LinearRegression(copy_X=True, fit_intercept=True, n_jobs=None, normalize=False)"
            ]
          },
          "metadata": {
            "tags": []
          },
          "execution_count": 24
        }
      ]
    },
    {
      "cell_type": "markdown",
      "metadata": {
        "id": "P2-eadxl28t2"
      },
      "source": [
        "### Interpreting model coefficients"
      ]
    },
    {
      "cell_type": "code",
      "metadata": {
        "id": "YkK_dq2P28t3",
        "outputId": "f6b283e2-9882-46dd-8379-5abac7ef17a6",
        "colab": {
          "base_uri": "https://localhost:8080/",
          "height": 50
        }
      },
      "source": [
        "# print the intercept and coefficients\n",
        "print(linreg.intercept_)\n",
        "print(linreg.coef_)"
      ],
      "execution_count": 25,
      "outputs": [
        {
          "output_type": "stream",
          "text": [
            "2.87696662231793\n",
            "[0.04656457 0.17915812 0.00345046]\n"
          ],
          "name": "stdout"
        }
      ]
    },
    {
      "cell_type": "code",
      "metadata": {
        "id": "QNkdNNLP28t9",
        "outputId": "3f5ae859-2d73-499a-d4fd-1fe9619913a7",
        "colab": {
          "base_uri": "https://localhost:8080/",
          "height": 67
        }
      },
      "source": [
        "# pair the feature names with the coefficients\n",
        "list(zip(feature_cols, linreg.coef_))"
      ],
      "execution_count": 26,
      "outputs": [
        {
          "output_type": "execute_result",
          "data": {
            "text/plain": [
              "[('TV', 0.046564567874150295),\n",
              " ('Radio', 0.17915812245088839),\n",
              " ('Newspaper', 0.0034504647111804343)]"
            ]
          },
          "metadata": {
            "tags": []
          },
          "execution_count": 26
        }
      ]
    },
    {
      "cell_type": "markdown",
      "metadata": {
        "id": "swX4154228uD"
      },
      "source": [
        "$$y = 2.88 + 0.0466 \\times TV + 0.179 \\times Radio + 0.00345 \\times Newspaper$$\n",
        "\n",
        "How do we interpret the **TV coefficient** (0.0466)?\n",
        "\n",
        "- For a given amount of Radio and Newspaper ad spending, **a \"unit\" increase in TV ad spending** is associated with a **0.0466 \"unit\" increase in Sales**.\n",
        "- Or more clearly: For a given amount of Radio and Newspaper ad spending, **an additional $1,000 spent on TV ads** is associated with an **increase in sales of 46.6 items**.\n",
        "\n",
        "Important notes:\n",
        "\n",
        "- This is a statement of **association**, not **causation**.\n",
        "- If an increase in TV ad spending was associated with a **decrease** in sales, $\\beta_1$ would be **negative**."
      ]
    },
    {
      "cell_type": "markdown",
      "metadata": {
        "id": "zDXxv8uf28uE"
      },
      "source": [
        "### Making predictions"
      ]
    },
    {
      "cell_type": "code",
      "metadata": {
        "id": "hn3B-Xxj28uF"
      },
      "source": [
        "# make predictions on the testing set\n",
        "y_pred = linreg.predict(X_test)"
      ],
      "execution_count": 27,
      "outputs": []
    },
    {
      "cell_type": "markdown",
      "metadata": {
        "id": "wIQXVeYW28uJ"
      },
      "source": [
        "We need an **evaluation metric** in order to compare our predictions with the actual values!"
      ]
    },
    {
      "cell_type": "markdown",
      "metadata": {
        "id": "8dWvhAwt28uK"
      },
      "source": [
        "## Model evaluation metrics for regression\n",
        "\n",
        "Evaluation metrics for classification problems, such as **accuracy**, are not useful for regression problems. Instead, we need evaluation metrics designed for comparing continuous values.\n",
        "\n",
        "Let's create some example numeric predictions, and calculate **three common evaluation metrics** for regression problems:"
      ]
    },
    {
      "cell_type": "code",
      "metadata": {
        "id": "MBcmZc_s28uL"
      },
      "source": [
        "# define true and predicted response values\n",
        "true = [100, 50, 30, 20]\n",
        "pred = [90, 50, 50, 30]"
      ],
      "execution_count": 28,
      "outputs": []
    },
    {
      "cell_type": "markdown",
      "metadata": {
        "id": "a7XdWtpz28uR"
      },
      "source": [
        "**Mean Absolute Error** (MAE) is the mean of the absolute value of the errors:\n",
        "\n",
        "$$\\frac 1n\\sum_{i=1}^n|y_i-\\hat{y}_i|$$"
      ]
    },
    {
      "cell_type": "code",
      "metadata": {
        "id": "MU7WBp1n28uS",
        "outputId": "99e67265-70cf-40f9-c62c-3f244ce95511",
        "colab": {
          "base_uri": "https://localhost:8080/",
          "height": 50
        }
      },
      "source": [
        "# calculate MAE by hand\n",
        "print((10 + 0 + 20 + 10)/4.)\n",
        "\n",
        "# calculate MAE using scikit-learn\n",
        "from sklearn import metrics\n",
        "print(metrics.mean_absolute_error(true, pred))"
      ],
      "execution_count": 29,
      "outputs": [
        {
          "output_type": "stream",
          "text": [
            "10.0\n",
            "10.0\n"
          ],
          "name": "stdout"
        }
      ]
    },
    {
      "cell_type": "markdown",
      "metadata": {
        "id": "txp1sbaI28uW"
      },
      "source": [
        "**Mean Squared Error** (MSE) is the mean of the squared errors:\n",
        "\n",
        "$$\\frac 1n\\sum_{i=1}^n(y_i-\\hat{y}_i)^2$$"
      ]
    },
    {
      "cell_type": "code",
      "metadata": {
        "id": "EbIcm4Ir28uX",
        "outputId": "93095bf7-e3eb-46ba-d8f3-a161921cc8bf",
        "colab": {
          "base_uri": "https://localhost:8080/",
          "height": 50
        }
      },
      "source": [
        "# calculate MSE by hand\n",
        "print((10**2 + 0**2 + 20**2 + 10**2)/4.)\n",
        "\n",
        "# calculate MSE using scikit-learn\n",
        "print(metrics.mean_squared_error(true, pred))"
      ],
      "execution_count": 30,
      "outputs": [
        {
          "output_type": "stream",
          "text": [
            "150.0\n",
            "150.0\n"
          ],
          "name": "stdout"
        }
      ]
    },
    {
      "cell_type": "markdown",
      "metadata": {
        "id": "i1qe9Y9o28ub"
      },
      "source": [
        "**Root Mean Squared Error** (RMSE) is the square root of the mean of the squared errors:\n",
        "\n",
        "$$\\sqrt{\\frac 1n\\sum_{i=1}^n(y_i-\\hat{y}_i)^2}$$"
      ]
    },
    {
      "cell_type": "code",
      "metadata": {
        "id": "wZTPr4y-28uc",
        "outputId": "f8984460-f887-48d6-e43d-045eeb13c06c",
        "colab": {
          "base_uri": "https://localhost:8080/",
          "height": 50
        }
      },
      "source": [
        "# calculate RMSE by hand\n",
        "import numpy as np\n",
        "print(np.sqrt((10**2 + 0**2 + 20**2 + 10**2)/4.))\n",
        "\n",
        "# calculate RMSE using scikit-learn\n",
        "print(np.sqrt(metrics.mean_squared_error(true, pred)))"
      ],
      "execution_count": 31,
      "outputs": [
        {
          "output_type": "stream",
          "text": [
            "12.24744871391589\n",
            "12.24744871391589\n"
          ],
          "name": "stdout"
        }
      ]
    },
    {
      "cell_type": "markdown",
      "metadata": {
        "id": "sNi-eAmQ28uh"
      },
      "source": [
        "Comparing these metrics:\n",
        "\n",
        "- **MAE** is the easiest to understand, because it's the average error.\n",
        "- **MSE** is more popular than MAE, because MSE \"punishes\" larger errors.\n",
        "- **RMSE** is even more popular than MSE, because RMSE is interpretable in the \"y\" units."
      ]
    },
    {
      "cell_type": "markdown",
      "metadata": {
        "id": "-dTQMYuB28ui"
      },
      "source": [
        "### Computing the RMSE for our Sales predictions"
      ]
    },
    {
      "cell_type": "code",
      "metadata": {
        "id": "l9OhAOnd28uj",
        "outputId": "48c5ed26-2dc1-4543-ccd8-01e0396acd5a",
        "colab": {
          "base_uri": "https://localhost:8080/",
          "height": 34
        }
      },
      "source": [
        "print(np.sqrt(metrics.mean_squared_error(y_test, y_pred)))"
      ],
      "execution_count": 32,
      "outputs": [
        {
          "output_type": "stream",
          "text": [
            "1.404651423032895\n"
          ],
          "name": "stdout"
        }
      ]
    },
    {
      "cell_type": "markdown",
      "metadata": {
        "id": "nfNmZwNC28uq"
      },
      "source": [
        "## Feature selection\n",
        "\n",
        "Does **Newspaper** \"belong\" in our model? In other words, does it improve the quality of our predictions?\n",
        "\n",
        "Let's **remove it** from the model and check the RMSE!"
      ]
    },
    {
      "cell_type": "code",
      "metadata": {
        "id": "XNnqd2Zj28ur",
        "outputId": "e95d2996-09e0-4f1f-d947-bd5d6df4d617",
        "colab": {
          "base_uri": "https://localhost:8080/",
          "height": 34
        }
      },
      "source": [
        "# create a Python list of feature names\n",
        "feature_cols = ['TV', 'Radio']\n",
        "\n",
        "# use the list to select a subset of the original DataFrame\n",
        "X = data[feature_cols]\n",
        "\n",
        "# select a Series from the DataFrame\n",
        "y = data.Sales\n",
        "\n",
        "# split into training and testing sets\n",
        "X_train, X_test, y_train, y_test = train_test_split(X, y, random_state=1)\n",
        "\n",
        "# fit the model to the training data (learn the coefficients)\n",
        "linreg.fit(X_train, y_train)\n",
        "\n",
        "# make predictions on the testing set\n",
        "y_pred = linreg.predict(X_test)\n",
        "\n",
        "# compute the RMSE of our predictions\n",
        "print(np.sqrt(metrics.mean_squared_error(y_test, y_pred)))"
      ],
      "execution_count": 33,
      "outputs": [
        {
          "output_type": "stream",
          "text": [
            "1.3879034699382888\n"
          ],
          "name": "stdout"
        }
      ]
    },
    {
      "cell_type": "markdown",
      "metadata": {
        "id": "fiA8gEh-28u0"
      },
      "source": [
        "The RMSE **decreased** when we removed Newspaper from the model. (Error is something we want to minimize, so **a lower number for RMSE is better**.) Thus, it is unlikely that this feature is useful for predicting Sales, and should be removed from the model."
      ]
    },
    {
      "cell_type": "markdown",
      "metadata": {
        "id": "HvVnuyuQ28u1"
      },
      "source": [
        "## Resources\n",
        "\n",
        "Linear regression:\n",
        "\n",
        "- [Longer notebook on linear regression](https://github.com/justmarkham/DAT5/blob/master/notebooks/09_linear_regression.ipynb) by Data School\n",
        "- Chapter 3 of [An Introduction to Statistical Learning](http://www-bcf.usc.edu/~gareth/ISL/) and [related videos](http://www.dataschool.io/15-hours-of-expert-machine-learning-videos/) by Hastie and Tibshirani (Stanford)\n",
        "- [Quick reference guide to applying and interpreting linear regression](http://www.dataschool.io/applying-and-interpreting-linear-regression/) by Data School\n",
        "- [Introduction to linear regression](http://people.duke.edu/~rnau/regintro.htm) by Robert Nau (Duke)\n",
        "\n",
        "Pandas:\n",
        "\n",
        "- [pandas Q&A video series](https://www.dataschool.io/easier-data-analysis-with-pandas/) by Data School\n",
        "- [Three-part pandas tutorial](http://www.gregreda.com/2013/10/26/intro-to-pandas-data-structures/) by Greg Reda\n",
        "- [read_csv](http://pandas.pydata.org/pandas-docs/stable/generated/pandas.read_csv.html) and [read_table](http://pandas.pydata.org/pandas-docs/stable/generated/pandas.read_table.html) documentation\n",
        "\n",
        "Seaborn:\n",
        "\n",
        "- [Official seaborn tutorial](http://seaborn.pydata.org/tutorial.html)\n",
        "- [Example gallery](http://seaborn.pydata.org/examples/index.html)\n",
        "\n",
        "Created by [Data School](http://www.dataschool.io/). Download the notebooks from [GitHub](https://github.com/justmarkham/scikit-learn-videos)."
      ]
    },
    {
      "cell_type": "code",
      "metadata": {
        "id": "rw_-JO6v28u3",
        "outputId": "b0aa8dd9-deb3-41e7-e87b-854a90ae7c3d"
      },
      "source": [
        "from IPython.core.display import HTML\n",
        "def css_styling():\n",
        "    styles = open(\"styles/custom.css\", \"r\").read()\n",
        "    return HTML(styles)\n",
        "css_styling()"
      ],
      "execution_count": null,
      "outputs": [
        {
          "output_type": "execute_result",
          "data": {
            "text/html": [
              "<style>\n",
              "    @font-face {\n",
              "        font-family: \"Computer Modern\";\n",
              "        src: url('http://mirrors.ctan.org/fonts/cm-unicode/fonts/otf/cmunss.otf');\n",
              "    }\n",
              "    div.cell{\n",
              "        width: 90%;\n",
              "/*        margin-left:auto;*/\n",
              "/*        margin-right:auto;*/\n",
              "    }\n",
              "    ul {\n",
              "        line-height: 145%;\n",
              "        font-size: 90%;\n",
              "    }\n",
              "    li {\n",
              "        margin-bottom: 1em;\n",
              "    }\n",
              "    h1 {\n",
              "        font-family: Helvetica, serif;\n",
              "    }\n",
              "    h4{\n",
              "        margin-top: 12px;\n",
              "        margin-bottom: 3px;\n",
              "       }\n",
              "    div.text_cell_render{\n",
              "        font-family: Computer Modern, \"Helvetica Neue\", Arial, Helvetica, Geneva, sans-serif;\n",
              "        line-height: 145%;\n",
              "        font-size: 130%;\n",
              "        width: 90%;\n",
              "        margin-left:auto;\n",
              "        margin-right:auto;\n",
              "    }\n",
              "    .CodeMirror{\n",
              "            font-family: \"Source Code Pro\", source-code-pro,Consolas, monospace;\n",
              "    }\n",
              "/*    .prompt{\n",
              "        display: None;\n",
              "    }*/\n",
              "    .text_cell_render h5 {\n",
              "        font-weight: 300;\n",
              "        font-size: 16pt;\n",
              "        color: #4057A1;\n",
              "        font-style: italic;\n",
              "        margin-bottom: 0.5em;\n",
              "        margin-top: 0.5em;\n",
              "        display: block;\n",
              "    }\n",
              "\n",
              "    .warning{\n",
              "        color: rgb( 240, 20, 20 )\n",
              "        }\n",
              "</style>\n",
              "<script>\n",
              "    MathJax.Hub.Config({\n",
              "                        TeX: {\n",
              "                           extensions: [\"AMSmath.js\"]\n",
              "                           },\n",
              "                tex2jax: {\n",
              "                    inlineMath: [ ['$','$'], [\"\\\\(\",\"\\\\)\"] ],\n",
              "                    displayMath: [ ['$$','$$'], [\"\\\\[\",\"\\\\]\"] ]\n",
              "                },\n",
              "                displayAlign: 'center', // Change this to 'center' to center equations.\n",
              "                \"HTML-CSS\": {\n",
              "                    styles: {'.MathJax_Display': {\"margin\": 4}}\n",
              "                }\n",
              "        });\n",
              "</script>"
            ],
            "text/plain": [
              "<IPython.core.display.HTML object>"
            ]
          },
          "metadata": {
            "tags": []
          },
          "execution_count": 1
        }
      ]
    }
  ]
}