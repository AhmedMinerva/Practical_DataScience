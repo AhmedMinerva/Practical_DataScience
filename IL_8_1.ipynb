{
  "nbformat": 4,
  "nbformat_minor": 0,
  "metadata": {
    "kernelspec": {
      "display_name": "Python 3",
      "language": "python",
      "name": "python3"
    },
    "language_info": {
      "codemirror_mode": {
        "name": "ipython",
        "version": 3
      },
      "file_extension": ".py",
      "mimetype": "text/x-python",
      "name": "python",
      "nbconvert_exporter": "python",
      "pygments_lexer": "ipython3",
      "version": "3.6.3"
    },
    "deepnote_notebook_id": "3782a798-f692-44e7-b3f8-fabfb44e61bc",
    "deepnote_execution_queue": [],
    "colab": {
      "name": "IL-8.1.ipynb",
      "provenance": [],
      "include_colab_link": true
    }
  },
  "cells": [
    {
      "cell_type": "markdown",
      "metadata": {
        "id": "view-in-github",
        "colab_type": "text"
      },
      "source": [
        "<a href=\"https://colab.research.google.com/github/AhmedMinerva/Practical_DataScience/blob/master/IL_8_1.ipynb\" target=\"_parent\"><img src=\"https://colab.research.google.com/assets/colab-badge.svg\" alt=\"Open In Colab\"/></a>"
      ]
    },
    {
      "cell_type": "markdown",
      "metadata": {
        "tags": [],
        "cell_id": "00000-0d4af565-e770-419e-b9ba-e921e8e3293c",
        "output_cleared": false,
        "id": "RUcQSr8ZAKRS"
      },
      "source": [
        "## Import libraries"
      ]
    },
    {
      "cell_type": "code",
      "metadata": {
        "cell_id": "00000-be24e4d1-1cf0-4077-9724-40cbef9efd3b",
        "output_cleared": false,
        "source_hash": "5ae42bd7",
        "execution_millis": 11,
        "execution_start": 1603324263050,
        "id": "42Cak6uDAKRW"
      },
      "source": [
        "import numpy as np\n",
        "import pandas as pd\n",
        "import matplotlib.pyplot\n",
        "from sklearn.preprocessing import OneHotEncoder\n",
        "from sklearn.model_selection import train_test_split\n",
        "from sklearn.linear_model import LogisticRegression\n",
        "from sklearn.metrics import accuracy_score, plot_confusion_matrix"
      ],
      "execution_count": 2,
      "outputs": []
    },
    {
      "cell_type": "markdown",
      "metadata": {
        "tags": [],
        "cell_id": "00002-fe88ef53-edd3-4089-9a27-c83261f30de1",
        "output_cleared": false,
        "id": "U-_O0_IKAKRl"
      },
      "source": [
        "## Import the data\n",
        "\n",
        "For this class, we'll be exploring the UCI Adult dataset. The goal is to predict whether someone makes more than $50,000 a year or not. It is a classification problem.\n",
        "\n",
        "The labels (`<=50K`/`>50K`) are in the `income` column. All the other columns can be used as input data. We have wide-ranging information on age, race, sex, education, occupation, etc."
      ]
    },
    {
      "cell_type": "code",
      "metadata": {
        "tags": [],
        "cell_id": "00002-5bacc7ff-5bac-41d6-b532-17779f09528e",
        "output_cleared": false,
        "source_hash": "ce3a5c34",
        "execution_millis": 603,
        "execution_start": 1603324263089,
        "id": "OXcMVsM6AKRn",
        "outputId": "3c4e5ada-5ddc-41c7-a56b-3d69e26d803b",
        "colab": {
          "base_uri": "https://localhost:8080/",
          "height": 279
        }
      },
      "source": [
        "col_names = [\n",
        "    'age',\n",
        "    'workclass',\n",
        "    'fnlwgt',\n",
        "    'education',\n",
        "    'education-num',\n",
        "    'marital-status',\n",
        "    'occupation',\n",
        "    'relationship',\n",
        "    'race',\n",
        "    'sex',\n",
        "    'capital-gain',\n",
        "    'capital-loss',\n",
        "    'hours-per-week',\n",
        "    'native-country',\n",
        "    'income'\n",
        "]\n",
        "\n",
        "data = pd.read_table('adult.data', sep = ',', index_col = False, names = col_names)\n",
        "data.head()"
      ],
      "execution_count": 17,
      "outputs": [
        {
          "output_type": "execute_result",
          "data": {
            "text/html": [
              "<div>\n",
              "<style scoped>\n",
              "    .dataframe tbody tr th:only-of-type {\n",
              "        vertical-align: middle;\n",
              "    }\n",
              "\n",
              "    .dataframe tbody tr th {\n",
              "        vertical-align: top;\n",
              "    }\n",
              "\n",
              "    .dataframe thead th {\n",
              "        text-align: right;\n",
              "    }\n",
              "</style>\n",
              "<table border=\"1\" class=\"dataframe\">\n",
              "  <thead>\n",
              "    <tr style=\"text-align: right;\">\n",
              "      <th></th>\n",
              "      <th>age</th>\n",
              "      <th>workclass</th>\n",
              "      <th>fnlwgt</th>\n",
              "      <th>education</th>\n",
              "      <th>education-num</th>\n",
              "      <th>marital-status</th>\n",
              "      <th>occupation</th>\n",
              "      <th>relationship</th>\n",
              "      <th>race</th>\n",
              "      <th>sex</th>\n",
              "      <th>capital-gain</th>\n",
              "      <th>capital-loss</th>\n",
              "      <th>hours-per-week</th>\n",
              "      <th>native-country</th>\n",
              "      <th>income</th>\n",
              "    </tr>\n",
              "  </thead>\n",
              "  <tbody>\n",
              "    <tr>\n",
              "      <th>0</th>\n",
              "      <td>39</td>\n",
              "      <td>State-gov</td>\n",
              "      <td>77516</td>\n",
              "      <td>Bachelors</td>\n",
              "      <td>13</td>\n",
              "      <td>Never-married</td>\n",
              "      <td>Adm-clerical</td>\n",
              "      <td>Not-in-family</td>\n",
              "      <td>White</td>\n",
              "      <td>Male</td>\n",
              "      <td>2174</td>\n",
              "      <td>0</td>\n",
              "      <td>40</td>\n",
              "      <td>United-States</td>\n",
              "      <td>&lt;=50K</td>\n",
              "    </tr>\n",
              "    <tr>\n",
              "      <th>1</th>\n",
              "      <td>50</td>\n",
              "      <td>Self-emp-not-inc</td>\n",
              "      <td>83311</td>\n",
              "      <td>Bachelors</td>\n",
              "      <td>13</td>\n",
              "      <td>Married-civ-spouse</td>\n",
              "      <td>Exec-managerial</td>\n",
              "      <td>Husband</td>\n",
              "      <td>White</td>\n",
              "      <td>Male</td>\n",
              "      <td>0</td>\n",
              "      <td>0</td>\n",
              "      <td>13</td>\n",
              "      <td>United-States</td>\n",
              "      <td>&lt;=50K</td>\n",
              "    </tr>\n",
              "    <tr>\n",
              "      <th>2</th>\n",
              "      <td>38</td>\n",
              "      <td>Private</td>\n",
              "      <td>215646</td>\n",
              "      <td>HS-grad</td>\n",
              "      <td>9</td>\n",
              "      <td>Divorced</td>\n",
              "      <td>Handlers-cleaners</td>\n",
              "      <td>Not-in-family</td>\n",
              "      <td>White</td>\n",
              "      <td>Male</td>\n",
              "      <td>0</td>\n",
              "      <td>0</td>\n",
              "      <td>40</td>\n",
              "      <td>United-States</td>\n",
              "      <td>&lt;=50K</td>\n",
              "    </tr>\n",
              "    <tr>\n",
              "      <th>3</th>\n",
              "      <td>53</td>\n",
              "      <td>Private</td>\n",
              "      <td>234721</td>\n",
              "      <td>11th</td>\n",
              "      <td>7</td>\n",
              "      <td>Married-civ-spouse</td>\n",
              "      <td>Handlers-cleaners</td>\n",
              "      <td>Husband</td>\n",
              "      <td>Black</td>\n",
              "      <td>Male</td>\n",
              "      <td>0</td>\n",
              "      <td>0</td>\n",
              "      <td>40</td>\n",
              "      <td>United-States</td>\n",
              "      <td>&lt;=50K</td>\n",
              "    </tr>\n",
              "    <tr>\n",
              "      <th>4</th>\n",
              "      <td>28</td>\n",
              "      <td>Private</td>\n",
              "      <td>338409</td>\n",
              "      <td>Bachelors</td>\n",
              "      <td>13</td>\n",
              "      <td>Married-civ-spouse</td>\n",
              "      <td>Prof-specialty</td>\n",
              "      <td>Wife</td>\n",
              "      <td>Black</td>\n",
              "      <td>Female</td>\n",
              "      <td>0</td>\n",
              "      <td>0</td>\n",
              "      <td>40</td>\n",
              "      <td>Cuba</td>\n",
              "      <td>&lt;=50K</td>\n",
              "    </tr>\n",
              "  </tbody>\n",
              "</table>\n",
              "</div>"
            ],
            "text/plain": [
              "   age          workclass  fnlwgt  ... hours-per-week  native-country  income\n",
              "0   39          State-gov   77516  ...             40   United-States   <=50K\n",
              "1   50   Self-emp-not-inc   83311  ...             13   United-States   <=50K\n",
              "2   38            Private  215646  ...             40   United-States   <=50K\n",
              "3   53            Private  234721  ...             40   United-States   <=50K\n",
              "4   28            Private  338409  ...             40            Cuba   <=50K\n",
              "\n",
              "[5 rows x 15 columns]"
            ]
          },
          "metadata": {
            "tags": []
          },
          "execution_count": 17
        }
      ]
    },
    {
      "cell_type": "markdown",
      "metadata": {
        "tags": [],
        "cell_id": "00004-dbd85ff5-e046-4af3-be6c-6b60ae49e234",
        "output_cleared": false,
        "id": "1TZjZjUeAKR2"
      },
      "source": [
        "## Drop the sentitive columns\n",
        "\n",
        "(Run this entire notebook first, and record the accuracy when we're using the entire dataset. Then go back to this cell and write code to drop a few columns. Run the notebook again and compare the accuracy scores.)"
      ]
    },
    {
      "cell_type": "code",
      "metadata": {
        "tags": [],
        "cell_id": "00003-d3380471-699a-464d-bdcc-3c81785fc79d",
        "output_cleared": false,
        "source_hash": "c25a9adb",
        "execution_millis": 8,
        "execution_start": 1603324263714,
        "id": "9QO18F7zAKR5",
        "outputId": "28907ee9-74d4-491f-cbe6-b76da838847d",
        "colab": {
          "base_uri": "https://localhost:8080/",
          "height": 50
        }
      },
      "source": [
        "print(data.shape)\n",
        "# ---------------------------\n",
        "# Choose 3 or more columns you think we should drop\n",
        "# ---------------------------\n",
        "columns_to_drop = ['race','sex','native-country']\n",
        "\n",
        "# ---------------------------\n",
        "# Write your code here to drop the columns you chose\n",
        "# ---------------------------\n",
        "\n",
        "\n",
        "#delete columns with many missing data\n",
        "data.drop(columns_to_drop, axis = 1,inplace=True)\n",
        "data.shape\n"
      ],
      "execution_count": 18,
      "outputs": [
        {
          "output_type": "stream",
          "text": [
            "(32561, 15)\n"
          ],
          "name": "stdout"
        },
        {
          "output_type": "execute_result",
          "data": {
            "text/plain": [
              "(32561, 12)"
            ]
          },
          "metadata": {
            "tags": []
          },
          "execution_count": 18
        }
      ]
    },
    {
      "cell_type": "code",
      "metadata": {
        "tags": [],
        "cell_id": "00005-d9095339-5976-4158-a1e0-b2b058d7a000",
        "output_cleared": false,
        "source_hash": "d15f374c",
        "execution_millis": 929,
        "execution_start": 1603324263768,
        "id": "qqYKEWhaAKSJ"
      },
      "source": [
        "# Function to turn categorical data into binary columns\n",
        "# More about OneHotEncoder here: https://scikit-learn.org/stable/modules/generated/sklearn.preprocessing.OneHotEncoder.html\n",
        "def encode_column(dataframe, col_name):\n",
        "    encoder = OneHotEncoder()\n",
        "    encoded_column = encoder.fit_transform(dataframe[col_name].values.reshape(-1, 1)).toarray().T\n",
        "    for index, category in enumerate(encoder.categories_[0]):\n",
        "        dataframe[category] = np.array(encoded_column[index])\n",
        "\n",
        "# These are the columns containing categorical data that we need to encode\n",
        "columns_to_encode = [\n",
        "    'workclass',\n",
        "    'education',\n",
        "    'marital-status', \n",
        "    'occupation',\n",
        "    'relationship',\n",
        "    'race',\n",
        "    'sex',\n",
        "    'native-country'\n",
        "]\n",
        "\n",
        "# There's no need to encode the columns we've dropped (they're gone!), so let's remove those from the list\n",
        "for col_name in columns_to_drop:\n",
        "    columns_to_encode.remove(col_name)\n",
        "\n",
        "# Encode the remaining columns\n",
        "for col_name in columns_to_encode:\n",
        "    encode_column(data, col_name)\n",
        "    data = data.drop(col_name, axis = 1)"
      ],
      "execution_count": 19,
      "outputs": []
    },
    {
      "cell_type": "code",
      "metadata": {
        "tags": [],
        "cell_id": "00007-c6dd0bfc-0bae-4022-8015-67bd439bb22f",
        "output_cleared": false,
        "source_hash": "ffdcff0b",
        "execution_millis": 118,
        "execution_start": 1603324264739,
        "id": "X6L0E6AXAKSW"
      },
      "source": [
        "# Split the dataframe into the inputs (X) and labels (y)\n",
        "X = data.drop('income', axis = 1)\n",
        "y = data['income'].apply(lambda x: 1 if x == ' >50K' else 0)\n",
        "\n",
        "# Split them further into train and test sets\n",
        "X_train, X_test, y_train, y_test = train_test_split(X, y, test_size = 0.3)"
      ],
      "execution_count": 20,
      "outputs": []
    },
    {
      "cell_type": "code",
      "metadata": {
        "tags": [],
        "cell_id": "00008-45b11256-c52b-46d5-9c90-3283e9dbc1f1",
        "output_cleared": false,
        "source_hash": "43af83f6",
        "execution_millis": 2686,
        "execution_start": 1603324264884,
        "id": "9bF6k_E8AKSf",
        "outputId": "b288708d-360f-42f8-b42f-67343ef0dcef",
        "colab": {
          "base_uri": "https://localhost:8080/",
          "height": 118
        }
      },
      "source": [
        "# Train a simple logistic regression model and print out the accuracy on the test set\n",
        "clf = LogisticRegression()\n",
        "clf.fit(X_train, y_train)\n",
        "\n",
        "preds = clf.predict(X_test)\n",
        "\n",
        "# Print out the accuracy score\n",
        "print('The accuracy score is:', accuracy_score(y_test, preds), '\\n')\n",
        "\n",
        "# Draw a confusion matrix\n",
        "y_actu = pd.Series(y_test, name='Actual')\n",
        "y_pred = pd.Series(preds, name='Predicted')\n",
        "df_confusion = pd.crosstab(y_actu, y_pred)\n",
        "df_confusion = df_confusion / df_confusion.sum(axis=1)\n",
        "print(df_confusion)"
      ],
      "execution_count": 21,
      "outputs": [
        {
          "output_type": "stream",
          "text": [
            "The accuracy score is: 0.7946565666905517 \n",
            "\n",
            "Predicted         0         1\n",
            "Actual                       \n",
            "0          0.910681  0.280347\n",
            "1          0.290976  0.086705\n"
          ],
          "name": "stdout"
        }
      ]
    },
    {
      "cell_type": "code",
      "metadata": {
        "tags": [],
        "cell_id": "00010-d0dd84e7-435d-4c81-9fb3-be15d39c115d",
        "output_cleared": false,
        "source_hash": "b623e53d",
        "execution_millis": 13,
        "execution_start": 1603324267589,
        "id": "iVj2U3IVAKSs"
      },
      "source": [
        ""
      ],
      "execution_count": null,
      "outputs": []
    }
  ]
}